{
 "cells": [
  {
   "cell_type": "code",
   "execution_count": 13,
   "metadata": {
    "collapsed": true,
    "ExecuteTime": {
     "end_time": "2023-06-22T22:09:42.066632Z",
     "start_time": "2023-06-22T22:09:42.049531Z"
    }
   },
   "outputs": [
    {
     "data": {
      "text/plain": "[39,\n 97,\n 97,\n 58,\n 25,\n 29,\n 90,\n 11,\n 51,\n 60,\n 37,\n 2,\n 95,\n 83,\n 12,\n 52,\n 42,\n 66,\n 37,\n 29,\n 22,\n 33,\n 24,\n 71,\n 91,\n 20,\n 29,\n 45,\n 57,\n 60,\n 90,\n 95,\n 48,\n 73,\n 38,\n 26,\n 85,\n 39,\n 68,\n 86,\n 4,\n 79,\n 46,\n 44,\n 69,\n 13,\n 13,\n 23,\n 64,\n 24,\n 69,\n 52,\n 83,\n 81,\n 6,\n 17,\n 49,\n 44,\n 12,\n 26,\n 101,\n 45,\n 41,\n 96,\n 57,\n 96,\n 62,\n 85,\n 12,\n 69,\n 12,\n 67,\n 101,\n 66,\n 59,\n 34,\n 46,\n 10,\n 36,\n 41,\n 34,\n 51,\n 41,\n 88,\n 10,\n 85,\n 4,\n 20,\n 53,\n 28,\n 25,\n 62,\n 100,\n 38,\n 73,\n 6,\n 81,\n 17,\n 26,\n 33,\n 67,\n 43,\n 8,\n 82,\n 21,\n 44,\n 71,\n 26,\n 41,\n 10,\n 82,\n 27,\n 94,\n 52,\n 72,\n 33,\n 69,\n 45,\n 97,\n 32,\n 9,\n 72,\n 101,\n 89,\n 36,\n 80,\n 54,\n 42,\n 16,\n 48,\n 96,\n 53,\n 35,\n 32,\n 62,\n 93,\n 38,\n 53,\n 22,\n 20,\n 56,\n 99,\n 11,\n 2,\n 75,\n 41,\n 5,\n 85,\n 1,\n 98,\n 81,\n 71,\n 30,\n 39,\n 46,\n 93,\n 22,\n 51,\n 73,\n 69,\n 11,\n 76,\n 96,\n 24,\n 25,\n 74,\n 99,\n 36,\n 51,\n 12,\n 30,\n 75,\n 34,\n 92,\n 60,\n 30,\n 4,\n 62,\n 21,\n 98,\n 101,\n 56,\n 56,\n 55,\n 76,\n 12,\n 69,\n 67,\n 59,\n 90,\n 73,\n 45,\n 10,\n 62,\n 79,\n 43,\n 22,\n 85,\n 74,\n 86,\n 86,\n 4,\n 60,\n 16]"
     },
     "execution_count": 13,
     "metadata": {},
     "output_type": "execute_result"
    }
   ],
   "source": [
    "from random import randint\n",
    "\n",
    "num_friends = [randint(1, 101) for _ in range(204)]\n",
    "num_friends"
   ]
  },
  {
   "cell_type": "code",
   "execution_count": 14,
   "outputs": [
    {
     "data": {
      "text/plain": "(Counter({39: 3,\n          97: 3,\n          58: 1,\n          25: 3,\n          29: 3,\n          90: 3,\n          11: 3,\n          51: 4,\n          60: 4,\n          37: 2,\n          2: 2,\n          95: 2,\n          83: 2,\n          12: 6,\n          52: 3,\n          42: 2,\n          66: 2,\n          22: 4,\n          33: 3,\n          24: 3,\n          71: 3,\n          91: 1,\n          20: 3,\n          45: 4,\n          57: 2,\n          48: 2,\n          73: 4,\n          38: 3,\n          26: 4,\n          85: 5,\n          68: 1,\n          86: 3,\n          4: 4,\n          79: 2,\n          46: 3,\n          44: 3,\n          69: 6,\n          13: 2,\n          23: 1,\n          64: 1,\n          81: 3,\n          6: 2,\n          17: 2,\n          49: 1,\n          101: 4,\n          41: 5,\n          96: 4,\n          62: 5,\n          67: 3,\n          59: 2,\n          34: 3,\n          10: 4,\n          36: 3,\n          88: 1,\n          53: 3,\n          28: 1,\n          100: 1,\n          43: 2,\n          8: 1,\n          82: 2,\n          21: 2,\n          27: 1,\n          94: 1,\n          72: 2,\n          32: 2,\n          9: 1,\n          89: 1,\n          80: 1,\n          54: 1,\n          16: 2,\n          35: 1,\n          93: 2,\n          56: 3,\n          99: 2,\n          75: 2,\n          5: 1,\n          1: 1,\n          98: 2,\n          30: 3,\n          76: 2,\n          74: 2,\n          92: 1,\n          55: 1}),\n [0,\n  1,\n  2,\n  0,\n  4,\n  1,\n  2,\n  0,\n  1,\n  1,\n  4,\n  3,\n  6,\n  2,\n  0,\n  0,\n  2,\n  2,\n  0,\n  0,\n  3,\n  2,\n  4,\n  1,\n  3,\n  3,\n  4,\n  1,\n  1,\n  3,\n  3,\n  0,\n  2,\n  3,\n  3,\n  1,\n  3,\n  2,\n  3,\n  3,\n  0,\n  5,\n  2,\n  2,\n  3,\n  4,\n  3,\n  0,\n  2,\n  1,\n  0,\n  4,\n  3,\n  3,\n  1,\n  1,\n  3,\n  2,\n  1,\n  2,\n  4,\n  0,\n  5,\n  0,\n  1,\n  0,\n  2,\n  3,\n  1,\n  6,\n  0,\n  3,\n  2,\n  4,\n  2,\n  2,\n  2,\n  0,\n  0,\n  2,\n  1,\n  3,\n  2,\n  2,\n  0,\n  5,\n  3,\n  0,\n  1,\n  1,\n  3,\n  1,\n  1,\n  2,\n  1,\n  2,\n  4,\n  3,\n  2,\n  2,\n  1])"
     },
     "execution_count": 14,
     "metadata": {},
     "output_type": "execute_result"
    }
   ],
   "source": [
    "from collections import Counter\n",
    "\n",
    "friend_counts = Counter(num_friends)\n",
    "\n",
    "xs = range(101)\n",
    "ys = [friend_counts[x] for x in xs]\n",
    "(friend_counts, ys)"
   ],
   "metadata": {
    "collapsed": false,
    "ExecuteTime": {
     "end_time": "2023-06-22T22:09:42.125937Z",
     "start_time": "2023-06-22T22:09:42.062514Z"
    }
   }
  },
  {
   "cell_type": "code",
   "execution_count": 15,
   "outputs": [
    {
     "data": {
      "text/plain": "<Figure size 432x288 with 1 Axes>",
      "image/png": "[encoded data removed]"
     },
     "metadata": {
      "needs_background": "light"
     },
     "output_type": "display_data"
    }
   ],
   "source": [
    "import matplotlib.pyplot as plt\n",
    "\n",
    "plt.bar(xs, ys)\n",
    "plt.axis([0, 101, 0, 10])\n",
    "plt.title(\"Гистограмма количества друзей\")\n",
    "plt.xlabel(\"Число друзей\")\n",
    "plt.ylabel(\"Число людей\")\n",
    "plt.show()"
   ],
   "metadata": {
    "collapsed": false,
    "ExecuteTime": {
     "end_time": "2023-06-22T22:09:43.043302Z",
     "start_time": "2023-06-22T22:09:42.101989Z"
    }
   }
  },
  {
   "cell_type": "code",
   "execution_count": 15,
   "outputs": [],
   "source": [],
   "metadata": {
    "collapsed": false,
    "ExecuteTime": {
     "end_time": "2023-06-22T22:09:43.044386Z",
     "start_time": "2023-06-22T22:09:43.033708Z"
    }
   }
  }
 ],
 "metadata": {
  "kernelspec": {
   "display_name": "Python 3",
   "language": "python",
   "name": "python3"
  },
  "language_info": {
   "codemirror_mode": {
    "name": "ipython",
    "version": 2
   },
   "file_extension": ".py",
   "mimetype": "text/x-python",
   "name": "python",
   "nbconvert_exporter": "python",
   "pygments_lexer": "ipython2",
   "version": "2.7.6"
  }
 },
 "nbformat": 4,
 "nbformat_minor": 0
}
